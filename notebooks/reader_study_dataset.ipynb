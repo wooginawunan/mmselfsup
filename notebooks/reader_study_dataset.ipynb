{
 "cells": [
  {
   "cell_type": "code",
   "execution_count": 1,
   "metadata": {},
   "outputs": [],
   "source": [
    "import pickle\n",
    "import tqdm\n",
    "import collections \n",
    "import re\n",
    "import numpy as np"
   ]
  },
  {
   "cell_type": "code",
   "execution_count": 29,
   "metadata": {},
   "outputs": [],
   "source": [
    "single_modal_dict_prefix = '/gpfs/data/geraslab/Ashen/multimodal/single_modality_dictionary/01102022'\n",
    "\n",
    "with open(os.path.join(single_modal_dict_prefix, 'ffdm_screening.pkl') , \"rb\") as f:\n",
    "    ffdm_screening_data = pickle.load(f)"
   ]
  },
  {
   "cell_type": "code",
   "execution_count": 4,
   "metadata": {},
   "outputs": [],
   "source": [
    "file = \"/gpfs/data/geraslab/Nan/StudiesScreeningMammo/1202_reader_study/1208_data_list_and_tracking_table.pkl\"\n",
    "with open(file, \"rb\") as f:\n",
    "    read_study_data = pickle.load(f)"
   ]
  },
  {
   "cell_type": "code",
   "execution_count": 24,
   "metadata": {},
   "outputs": [],
   "source": [
    "ffdm_exam_list = [e for exams in read_study_data[0][1:] for e in exams]"
   ]
  },
  {
   "cell_type": "code",
   "execution_count": 34,
   "metadata": {},
   "outputs": [],
   "source": [
    "def get_ffdm_info_list(ffdm_exam, diagnostic, lateral):\n",
    "    \n",
    "    img_prefix = '/gpfs/data/geraslab/jp4989/data/2021.07.16.combined_ffdm_cropped'\n",
    "    if diagnostic:\n",
    "        img_prefix = f\"{img_prefix}_diagnostic\"\n",
    "    accession_number = ffdm_exam['accession_number']\n",
    "    \n",
    "    ffdm_info_list = []\n",
    "    for view in ffdm_exam['original_image_size'].keys():\n",
    "        if view.startswith(lateral[0].upper()):\n",
    "            images = ffdm_exam[view]\n",
    "            for index, filename in enumerate(images):\n",
    "                info = {'img_prefix': img_prefix, \n",
    "                        'accession_number': accession_number, \n",
    "                        'index': index,\n",
    "                        'view': view,\n",
    "                        'filename': filename,\n",
    "                        'horizontal_flip': ffdm_exam['horizontal_flip'][view][index] if diagnostic \\\n",
    "                            else ffdm_exam['horizontal_flip'], \n",
    "                        'best_center': ffdm_exam['best_center'][view][index],\n",
    "                        'crop_method': 'no_crop' if diagnostic else 'best_center'\n",
    "                }\n",
    "                ffdm_info_list.append(info)\n",
    "    return ffdm_info_list\n",
    "    \n",
    "def generate_list(exam, ffdm_data=ffdm_screening_data):\n",
    "    \n",
    "    breasts = []\n",
    "    for lateral in ['left', 'right']:\n",
    "        ffdms = get_ffdm_info_list(ffdm_data[exam['accession_number']], False, lateral)\n",
    "\n",
    "        for ffdm in ffdms:\n",
    "            breast_instance = {'accession_number': exam['accession_number'],\n",
    "                                'lateral': lateral,\n",
    "                                'mrn': exam['patient_ID'], \n",
    "                                'study_date': exam['study_date'],\n",
    "                                'benign': exam['cancer_label'][f\"{lateral}_benign\"], \n",
    "                                'malignant': exam['cancer_label'][f\"{lateral}_malignant\"],\n",
    "                                'ffdm': ffdm}\n",
    "            breasts.append(breast_instance)\n",
    "            \n",
    "    return breasts"
   ]
  },
  {
   "cell_type": "code",
   "execution_count": 37,
   "metadata": {},
   "outputs": [],
   "source": [
    "ffdm_image_list = [img for exam in ffdm_exam_list for img in generate_list(exam)]"
   ]
  },
  {
   "cell_type": "code",
   "execution_count": 38,
   "metadata": {},
   "outputs": [
    {
     "data": {
      "text/plain": [
       "3110"
      ]
     },
     "execution_count": 38,
     "metadata": {},
     "output_type": "execute_result"
    }
   ],
   "source": []
  },
  {
   "cell_type": "code",
   "execution_count": 41,
   "metadata": {},
   "outputs": [
    {
     "name": "stdout",
     "output_type": "stream",
     "text": [
      "val #pairs: 3110 \n",
      "\t saved at:  nyu_readerstudy_ffdm\n"
     ]
    }
   ],
   "source": [
    "prefix = '/gpfs/data/geraslab/Nan/data/breast_mml_datalists/20220111/breasts_lists'\n",
    "savepath = 'nyu_readerstudy_ffdm'\n",
    "phase = 'val'\n",
    "\n",
    "# os.mkdir(os.path.join(prefix, savepath))\n",
    "file = os.path.join(prefix, savepath, phase)\n",
    "\n",
    "print(phase, \"#pairs:\", len(ffdm_image_list), '\\n\\t saved at: ', savepath)\n",
    "\n",
    "with open(file, 'wb') as f:\n",
    "    pickle.dump(ffdm_image_list, f)"
   ]
  },
  {
   "cell_type": "code",
   "execution_count": 1,
   "metadata": {},
   "outputs": [],
   "source": [
    "# ffdm_image_list[0]"
   ]
  },
  {
   "cell_type": "code",
   "execution_count": null,
   "metadata": {},
   "outputs": [],
   "source": []
  }
 ],
 "metadata": {
  "interpreter": {
   "hash": "07a111d3e27a1dee9d0b4c31fe465f6957bbd61e7acb75bf7205cee96cff5f66"
  },
  "kernelspec": {
   "display_name": "Python 3.8.3 ('base')",
   "language": "python",
   "name": "python3"
  },
  "language_info": {
   "codemirror_mode": {
    "name": "ipython",
    "version": 3
   },
   "file_extension": ".py",
   "mimetype": "text/x-python",
   "name": "python",
   "nbconvert_exporter": "python",
   "pygments_lexer": "ipython3",
   "version": "3.8.3"
  },
  "orig_nbformat": 4
 },
 "nbformat": 4,
 "nbformat_minor": 2
}
