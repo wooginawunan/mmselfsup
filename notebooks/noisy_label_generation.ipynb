{
 "cells": [
  {
   "cell_type": "code",
   "execution_count": 1,
   "metadata": {},
   "outputs": [],
   "source": [
    "import pickle\n",
    "import tqdm\n",
    "import collections \n",
    "import re\n",
    "import numpy as np\n",
    "import datetime\n",
    "import spacy\n",
    "\n",
    "sp = spacy.load('en_core_web_sm')\n",
    "all_stopwords = sp.Defaults.stop_words"
   ]
  },
  {
   "cell_type": "code",
   "execution_count": 2,
   "metadata": {},
   "outputs": [],
   "source": [
    "def join_list(fields):\n",
    "    return np.unique([y for x in fields  if len(x)!=0 for y in np.array(x[0]).flatten()])\n",
    "\n",
    "def cleaning_term(s):\n",
    "    s = re.sub(r'[^\\w]', ' ', s)\n",
    "    s = s.lower().strip()\n",
    "    return s\n",
    "\n",
    "prefix = \"/gpfs/data/geraslab/Nan/mmselfsup/work_dirs/data/\"\n",
    "file = os.path.join(prefix, \"extracted_pathology_info.pkl\")\n",
    "with open(file, \"rb\") as f:\n",
    "    patho = pickle.load(f)\n",
    "patho = patho['final_reports_df']\n",
    "\n",
    "\n",
    "combined_list = patho[['list_malignant_terms_found_right', \n",
    "    'list_malignant_terms_found_left',\n",
    "   'list_benign_terms_found_right',\n",
    "   'list_benign_terms_found_right']].apply(lambda x: join_list(x), axis=1)\n",
    "\n",
    "all_appeared_terms = [y for x in combined_list.values for y in x]\n",
    "\n",
    "# get all unique benign/malignant terms \n",
    "unique_terms = collections.Counter(all_appeared_terms).keys()\n",
    "unique_terms = [cleaning_term(t) for t in unique_terms]\n",
    "\n",
    "# clean terms and obtain unique tokens\n",
    "dict_tokens = collections.Counter([t for term in unique_terms for t in term.split(' ') if t not in all_stopwords and len(t)>1])\n",
    "unique_tokens = list(dict_tokens.keys())"
   ]
  },
  {
   "cell_type": "code",
   "execution_count": 3,
   "metadata": {},
   "outputs": [],
   "source": [
    "with open(os.path.join(prefix, 'malignant_benign_indicator_tokens.txt'), 'w') as f:\n",
    "    for t in unique_tokens:\n",
    "        f.write(t+'\\n')"
   ]
  },
  {
   "cell_type": "code",
   "execution_count": 4,
   "metadata": {},
   "outputs": [],
   "source": [
    "datafile = '/gpfs/data/geraslab/Nan/data/breast_mml_datalists/20220111/breasts_lists/ffdm_screening_only/full/train'\n",
    "with open(datafile, \"rb\") as f:\n",
    "    train_data = pickle.load(f)\n",
    "\n",
    "datafile = '/gpfs/data/geraslab/Nan/data/breast_mml_datalists/20220111/breasts_lists/ffdm_screening_only/balanced/val'\n",
    "with open(datafile, \"rb\") as f:\n",
    "    val_data = pickle.load(f)"
   ]
  },
  {
   "cell_type": "code",
   "execution_count": 15,
   "metadata": {},
   "outputs": [],
   "source": [
    "def get_term_lists(mrn, study_date, patho_info = patho):    \n",
    "    if mrn not in patho_info['mrn'].unique():\n",
    "        #patient_record = patho_info[patho_info['mrn']==mrn]\n",
    "        #if len(patient_record)==0:\n",
    "        terms = []\n",
    "    else:\n",
    "        patient_record = patho_info[patho_info['mrn']==mrn]\n",
    "        diff_days = patient_record['date'] - study_date \n",
    "\n",
    "        indices = patient_record.where(diff_days<datetime.timedelta(days=120)).dropna().index.values\n",
    "\n",
    "        terms = [term for i in indices for term in combined_list[i]] \n",
    "    return terms \n",
    "\n",
    "def align_exams_with_patho(data):\n",
    "    noisy_subcancer_label = []\n",
    "    for pair in tqdm.tqdm(data):\n",
    "        if pair['biopsied']:\n",
    "            mrn, study_date = pair['mrn'], pair['study_date']\n",
    "            terms = get_term_lists(mrn, study_date)\n",
    "        else:\n",
    "            terms = []\n",
    "        noisy_subcancer_label.append(terms)\n",
    "    return noisy_subcancer_label\n",
    "\n",
    "def label_indices(s, tokens = unique_tokens):\n",
    "    return [i for i, t in enumerate(tokens) if t in s] "
   ]
  },
  {
   "cell_type": "code",
   "execution_count": 24,
   "metadata": {
    "scrolled": true
   },
   "outputs": [
    {
     "name": "stderr",
     "output_type": "stream",
     "text": [
      "100%|██████████| 323418/323418 [23:28<00:00, 229.57it/s] \n"
     ]
    }
   ],
   "source": [
    "train_noisy_subcancer_label = align_exams_with_patho(train_data)\n",
    "val_noisy_subcancer_label = align_exams_with_patho(val_data)\n",
    "\n",
    "val_token_indices = [label_indices(' '.join(terms)) for terms in val_noisy_subcancer_label]\n",
    "train_token_indices = [label_indices(' '.join(terms)) for terms in train_noisy_subcancer_label]\n",
    "\n",
    "for i, pair in enumerate(val_data):\n",
    "    pair['noisy_token_indicies'] = val_token_indices[i]\n",
    "\n",
    "for i, pair in enumerate(train_data):\n",
    "    pair['noisy_token_indicies'] = train_token_indices[i]"
   ]
  },
  {
   "cell_type": "code",
   "execution_count": 34,
   "metadata": {},
   "outputs": [],
   "source": [
    "datafile = '/gpfs/data/geraslab/Nan/data/breast_mml_datalists/20220111/breasts_lists/ffdm_screening_only/full/train'\n",
    "with open(datafile, 'wb') as f:\n",
    "    pickle.dump(train_data, f)\n",
    "\n",
    "datafile = '/gpfs/data/geraslab/Nan/data/breast_mml_datalists/20220111/breasts_lists/ffdm_screening_only/balanced/val'\n",
    "with open(datafile, 'wb') as f:\n",
    "    pickle.dump(val_data, f)"
   ]
  },
  {
   "cell_type": "code",
   "execution_count": null,
   "metadata": {},
   "outputs": [],
   "source": []
  }
 ],
 "metadata": {
  "kernelspec": {
   "display_name": "Python 3",
   "language": "python",
   "name": "python3"
  },
  "language_info": {
   "codemirror_mode": {
    "name": "ipython",
    "version": 3
   },
   "file_extension": ".py",
   "mimetype": "text/x-python",
   "name": "python",
   "nbconvert_exporter": "python",
   "pygments_lexer": "ipython3",
   "version": "3.8.3"
  }
 },
 "nbformat": 4,
 "nbformat_minor": 4
}
