{
 "cells": [
  {
   "cell_type": "code",
   "execution_count": 1,
   "metadata": {},
   "outputs": [],
   "source": [
    "import pickle\n",
    "import tqdm\n",
    "import collections \n",
    "import re\n",
    "import numpy as np"
   ]
  },
  {
   "cell_type": "code",
   "execution_count": 2,
   "metadata": {},
   "outputs": [],
   "source": [
    "datafile = '/gpfs/data/geraslab/Nan/data/breast_mml_datalists/20220111/breasts_lists/ffdm_screening_only/full/train'\n",
    "with open(datafile, \"rb\") as f:\n",
    "    data = pickle.load(f)"
   ]
  },
  {
   "cell_type": "code",
   "execution_count": 13,
   "metadata": {},
   "outputs": [],
   "source": [
    "import pandas as pd\n",
    "\n",
    "df = []\n",
    "for instance in data:\n",
    "    df.append({'episode_id': instance['episode_id'], \n",
    "        'biopsied': instance['biopsied'],\n",
    "        'malignant': instance['malignant'],\n",
    "        'benign': instance['benign'],\n",
    "        'lateral': instance['ffdm']['view'][0]\n",
    "        })"
   ]
  },
  {
   "cell_type": "code",
   "execution_count": 14,
   "metadata": {},
   "outputs": [],
   "source": [
    "df = pd.DataFrame(df)"
   ]
  },
  {
   "cell_type": "code",
   "execution_count": 20,
   "metadata": {},
   "outputs": [
    {
     "data": {
      "text/plain": [
       "biopsied     6509\n",
       "malignant     500\n",
       "benign       3231\n",
       "dtype: int64"
      ]
     },
     "execution_count": 20,
     "metadata": {},
     "output_type": "execute_result"
    }
   ],
   "source": [
    "df.groupby(['episode_id', 'lateral']).mean().sum(0)"
   ]
  },
  {
   "cell_type": "code",
   "execution_count": 2,
   "metadata": {},
   "outputs": [],
   "source": [
    "datafile = '/gpfs/data/geraslab/Ashen/multimodal/multi_modality_datalist/03092022/datalist.pkl'\n",
    "with open(datafile, \"rb\") as f:\n",
    "    data_full_set = pickle.load(f)"
   ]
  },
  {
   "cell_type": "code",
   "execution_count": 3,
   "metadata": {},
   "outputs": [],
   "source": [
    "single_modal_dict_prefix = '/gpfs/data/geraslab/Ashen/multimodal/single_modality_dictionary/01102022'\n",
    "\n",
    "with open(os.path.join(single_modal_dict_prefix, 'ffdm_screening.pkl') , \"rb\") as f:\n",
    "    ffdm_screening_data = pickle.load(f)"
   ]
  },
  {
   "cell_type": "code",
   "execution_count": 47,
   "metadata": {},
   "outputs": [],
   "source": [
    "def get_ffdm_info_list(ffdm_exam, diagnostic, lateral):\n",
    "    \n",
    "    img_prefix = '/gpfs/data/geraslab/jp4989/data/2021.07.16.combined_ffdm_cropped'\n",
    "    if diagnostic:\n",
    "        img_prefix = f\"{img_prefix}_diagnostic\"\n",
    "    accession_number = ffdm_exam['accession_number']\n",
    "    \n",
    "    ffdm_info_list = []\n",
    "    for view in ffdm_exam['original_image_size'].keys():\n",
    "        if view.startswith(lateral[0].upper()):\n",
    "            images = ffdm_exam[view]\n",
    "            for index, filename in enumerate(images):\n",
    "                info = {'img_prefix': img_prefix, \n",
    "                        'accession_number': accession_number, \n",
    "                        'index': index,\n",
    "                        'view': view,\n",
    "                        'filename': filename,\n",
    "                        'horizontal_flip': ffdm_exam['horizontal_flip'][view][index] if diagnostic \\\n",
    "                            else ffdm_exam['horizontal_flip'], \n",
    "                        'best_center': ffdm_exam['best_center'][view][index],\n",
    "                        'crop_method': 'no_crop' if diagnostic else 'best_center'\n",
    "                }\n",
    "                ffdm_info_list.append(info)\n",
    "    return ffdm_info_list\n",
    "\n",
    "def generate_list(mrn, cancer_label, exam, ffdm_data=ffdm_screening_data):\n",
    "    \n",
    "    breasts = []\n",
    "    for lateral in ['left', 'right']:\n",
    "        ffdms = get_ffdm_info_list(ffdm_data[exam['acn']], False, lateral)\n",
    "\n",
    "        for ffdm in ffdms:\n",
    "            breast_instance = {'accession_number': exam['acn'],\n",
    "                                'lateral': lateral,\n",
    "                                'mrn': mrn, \n",
    "                                'study_date': exam['study_date'],\n",
    "                                'benign': cancer_label[f\"{lateral}_benign\"], \n",
    "                                'malignant': cancer_label[f\"{lateral}_malignant\"],\n",
    "                                'biopsied': cancer_label[f\"{lateral}_biopsied\"],\n",
    "                                'ffdm': ffdm}\n",
    "            breasts.append(breast_instance)\n",
    "            \n",
    "    return breasts"
   ]
  },
  {
   "cell_type": "code",
   "execution_count": 48,
   "metadata": {},
   "outputs": [
    {
     "name": "stderr",
     "output_type": "stream",
     "text": [
      "100%|██████████| 520717/520717 [00:09<00:00, 53950.64it/s]\n"
     ]
    }
   ],
   "source": [
    "ffdm_images_train = []\n",
    "for episode in tqdm.tqdm(data_full_set[0]):\n",
    "    cancer_label = episode['cancer_label']\n",
    "    for exam in episode['exams']:\n",
    "        if exam['modality']=='ffdm_screening':\n",
    "            images = generate_list(episode['mrn'], cancer_label, exam, ffdm_data=ffdm_screening_data)\n",
    "            ffdm_images_train.extend(images)\n"
   ]
  },
  {
   "cell_type": "code",
   "execution_count": 54,
   "metadata": {},
   "outputs": [
    {
     "name": "stderr",
     "output_type": "stream",
     "text": [
      "100%|██████████| 23460/23460 [00:00<00:00, 33582.84it/s]\n"
     ]
    }
   ],
   "source": [
    "ffdm_images_val = []\n",
    "for episode in tqdm.tqdm(data_full_set[1]):\n",
    "    cancer_label = episode['cancer_label']\n",
    "    for exam in episode['exams']:\n",
    "        if exam['modality']=='ffdm_screening':\n",
    "            images = generate_list(episode['mrn'], cancer_label, exam, ffdm_data=ffdm_screening_data)\n",
    "            ffdm_images_val.extend(images)"
   ]
  },
  {
   "cell_type": "code",
   "execution_count": 32,
   "metadata": {},
   "outputs": [
    {
     "data": {
      "text/plain": [
       "(1981, 359053)"
      ]
     },
     "execution_count": 32,
     "metadata": {},
     "output_type": "execute_result"
    }
   ],
   "source": [
    "len(malignant_screening_ffdm_train), len(non_malignant_screening_ffdm_train)"
   ]
  },
  {
   "cell_type": "code",
   "execution_count": 62,
   "metadata": {},
   "outputs": [
    {
     "data": {
      "text/plain": [
       "4481"
      ]
     },
     "execution_count": 62,
     "metadata": {},
     "output_type": "execute_result"
    }
   ],
   "source": [
    "sum([x['malignant'] for x in ffdm_images_train ])"
   ]
  },
  {
   "cell_type": "code",
   "execution_count": 51,
   "metadata": {},
   "outputs": [
    {
     "data": {
      "text/plain": [
       "46535"
      ]
     },
     "execution_count": 51,
     "metadata": {},
     "output_type": "execute_result"
    }
   ],
   "source": [
    "sum([x['biopsied'] for x in ffdm_images_train ])"
   ]
  },
  {
   "cell_type": "code",
   "execution_count": 52,
   "metadata": {},
   "outputs": [
    {
     "data": {
      "text/plain": [
       "22496"
      ]
     },
     "execution_count": 52,
     "metadata": {},
     "output_type": "execute_result"
    }
   ],
   "source": [
    "sum([x['benign'] for x in ffdm_images_train ])"
   ]
  },
  {
   "cell_type": "code",
   "execution_count": 59,
   "metadata": {},
   "outputs": [
    {
     "name": "stdout",
     "output_type": "stream",
     "text": [
      "train #pairs: 1561160 \n",
      "\t saved at:  nyu_ffdm_screening\n"
     ]
    }
   ],
   "source": [
    "prefix = '/gpfs/data/geraslab/Nan/data/breast_mml_datalists/20220111/breasts_lists'\n",
    "savepath = 'nyu_ffdm_screening'\n",
    "phase = 'train'\n",
    "\n",
    "os.mkdir(os.path.join(prefix, savepath))\n",
    "file = os.path.join(prefix, savepath, phase)\n",
    "\n",
    "print(phase, \"#pairs:\", len(ffdm_images_train), '\\n\\t saved at: ', savepath)\n",
    "\n",
    "with open(file, 'wb') as f:\n",
    "    pickle.dump(ffdm_images_train, f)"
   ]
  },
  {
   "cell_type": "code",
   "execution_count": 61,
   "metadata": {},
   "outputs": [
    {
     "name": "stdout",
     "output_type": "stream",
     "text": [
      "val #pairs: 85201 \n",
      "\t saved at:  nyu_ffdm_screening\n"
     ]
    }
   ],
   "source": [
    "phase = 'val'\n",
    "\n",
    "# os.mkdir(os.path.join(prefix, savepath))\n",
    "file = os.path.join(prefix, savepath, phase)\n",
    "\n",
    "print(phase, \"#pairs:\", len(ffdm_images_val), '\\n\\t saved at: ', savepath)\n",
    "\n",
    "with open(file, 'wb') as f:\n",
    "    pickle.dump(ffdm_images_val, f)"
   ]
  },
  {
   "cell_type": "code",
   "execution_count": null,
   "metadata": {},
   "outputs": [],
   "source": []
  }
 ],
 "metadata": {
  "interpreter": {
   "hash": "07a111d3e27a1dee9d0b4c31fe465f6957bbd61e7acb75bf7205cee96cff5f66"
  },
  "kernelspec": {
   "display_name": "Python 3.8.3 ('base')",
   "language": "python",
   "name": "python3"
  },
  "language_info": {
   "codemirror_mode": {
    "name": "ipython",
    "version": 3
   },
   "file_extension": ".py",
   "mimetype": "text/x-python",
   "name": "python",
   "nbconvert_exporter": "python",
   "pygments_lexer": "ipython3",
   "version": "3.8.3"
  },
  "orig_nbformat": 4
 },
 "nbformat": 4,
 "nbformat_minor": 2
}
