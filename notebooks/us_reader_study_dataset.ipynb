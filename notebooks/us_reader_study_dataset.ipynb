{
 "cells": [
  {
   "cell_type": "code",
   "execution_count": null,
   "metadata": {},
   "outputs": [],
   "source": [
    "import pickle\n",
    "import tqdm\n",
    "import collections \n",
    "import re\n",
    "import numpy as np"
   ]
  },
  {
   "cell_type": "code",
   "execution_count": null,
   "metadata": {},
   "outputs": [],
   "source": [
    "single_modal_dict_prefix = '/gpfs/data/geraslab/Ashen/multimodal/single_modality_dictionary/01102022'\n",
    "\n",
    "with open(os.path.join(single_modal_dict_prefix, 'ultrasound.pkl') , \"rb\") as f:\n",
    "    us_data = pickle.load(f)"
   ]
  },
  {
   "cell_type": "code",
   "execution_count": null,
   "metadata": {},
   "outputs": [],
   "source": [
    "file = '/gpfs/data/geraslab/Ashen/ultrasound_data/data_list_final_reader_study.pkl'\n",
    "with open(file, \"rb\") as f:\n",
    "    read_study_data = pickle.load(f)"
   ]
  },
  {
   "cell_type": "code",
   "execution_count": null,
   "metadata": {},
   "outputs": [],
   "source": [
    "us_exam_list = read_study_data[0]"
   ]
  },
  {
   "cell_type": "code",
   "execution_count": null,
   "metadata": {},
   "outputs": [],
   "source": [
    "def get_us_info(acn, lateral, us_data):\n",
    "    slices = sorted([int(k) for k, v in us_data[acn]['laterality'].items() \n",
    "                     if v==lateral])\n",
    "\n",
    "    filenames = [us_data[acn]['image_UID'][str(s)] for s in slices]\n",
    "    \n",
    "    us = {'img_prefix': '/gpfs/data/geraslab/Ashen/ultrasound_data/npy_img', \n",
    "          'accession_number': acn,\n",
    "          'indices': slices,\n",
    "          'filenames': filenames\n",
    "         }\n",
    "\n",
    "    return us\n",
    "\n",
    "def generate_list(exam, us_data=us_data):\n",
    "    \n",
    "    breasts = []\n",
    "    for lateral in ['left', 'right']:\n",
    "        us = get_us_info(\n",
    "            exam['AccessionnNumber'], \n",
    "            lateral, \n",
    "            us_data)\n",
    "        cancer_label = eval(exam['cancer_label'])\n",
    "        breast_instance = {'accession_number': exam['AccessionnNumber'],\n",
    "                            'lateral': lateral,\n",
    "                            'mrn': exam['patient_ID'], \n",
    "                            'study_date': exam['StudyDate'],\n",
    "                            'benign': cancer_label[f\"{lateral}_benign\"], \n",
    "                            'malignant': cancer_label[f\"{lateral}_malignant\"],\n",
    "                            'biopsied': np.nan,\n",
    "                            'us': us}\n",
    "        breasts.append(breast_instance)\n",
    "            \n",
    "    return breasts"
   ]
  },
  {
   "cell_type": "code",
   "execution_count": null,
   "metadata": {},
   "outputs": [],
   "source": [
    "us_image_list = [img for exam in us_exam_list for img in generate_list(exam)]"
   ]
  },
  {
   "cell_type": "code",
   "execution_count": null,
   "metadata": {},
   "outputs": [],
   "source": [
    "prefix = '/gpfs/data/geraslab/Nan/data/breast_mml_datalists/20220111/breasts_lists'\n",
    "savepath = 'nyu_readerstudy_us'\n",
    "phase = 'val'\n",
    "\n",
    "os.mkdir(os.path.join(prefix, savepath))\n",
    "file = os.path.join(prefix, savepath, phase)\n",
    "\n",
    "print(phase, \"#pairs:\", len(us_image_list), '\\n\\t saved at: ', savepath)\n",
    "\n",
    "with open(file, 'wb') as f:\n",
    "    pickle.dump(us_image_list, f)"
   ]
  },
  {
   "cell_type": "code",
   "execution_count": null,
   "metadata": {},
   "outputs": [],
   "source": [
    "datafile = '/gpfs/data/geraslab/Ashen/multimodal/multi_modality_datalist/03092022/datalist.pkl'\n",
    "with open(datafile, \"rb\") as f:\n",
    "    data_full_set = pickle.load(f)"
   ]
  },
  {
   "cell_type": "code",
   "execution_count": null,
   "metadata": {},
   "outputs": [],
   "source": [
    "def generate_list(mrn, cancer_label, exam, us_data=us_data):\n",
    "    \n",
    "    breasts = []\n",
    "    for lateral in ['left', 'right']:\n",
    "        us = get_us_info(exam['acn'], lateral,  us_data)\n",
    "\n",
    "        breast_instance = {'accession_number': exam['acn'],\n",
    "                            'lateral': lateral,\n",
    "                            'mrn': mrn, \n",
    "                            'study_date': exam['study_date'],\n",
    "                            'benign': cancer_label[f\"{lateral}_benign\"], \n",
    "                            'malignant': cancer_label[f\"{lateral}_malignant\"],\n",
    "                            'biopsied': cancer_label[f\"{lateral}_biopsied\"],\n",
    "                            'us': us}\n",
    "        breasts.append(breast_instance)\n",
    "        \n",
    "    return breasts"
   ]
  },
  {
   "cell_type": "code",
   "execution_count": null,
   "metadata": {},
   "outputs": [],
   "source": [
    "us_images_train = []\n",
    "for episode in tqdm.tqdm(data_full_set[0]):\n",
    "    cancer_label = episode['cancer_label']\n",
    "    for exam in episode['exams']:\n",
    "        if exam['modality'].startswith('us'):\n",
    "            images = generate_list(episode['mrn'], cancer_label, exam, us_data=us_data)\n",
    "            us_images_train.extend(images)"
   ]
  },
  {
   "cell_type": "code",
   "execution_count": null,
   "metadata": {},
   "outputs": [],
   "source": [
    "us_images_val = []\n",
    "for episode in tqdm.tqdm(data_full_set[1]):\n",
    "    cancer_label = episode['cancer_label']\n",
    "    for exam in episode['exams']:\n",
    "        if exam['modality'].startswith('us'):\n",
    "            images = generate_list(episode['mrn'], cancer_label, exam, us_data=us_data)\n",
    "            us_images_val.extend(images)"
   ]
  },
  {
   "cell_type": "code",
   "execution_count": null,
   "metadata": {},
   "outputs": [],
   "source": [
    "sum([x['malignant'] for x in us_images_train ])"
   ]
  },
  {
   "cell_type": "code",
   "execution_count": null,
   "metadata": {},
   "outputs": [],
   "source": [
    "prefix = '/gpfs/data/geraslab/Nan/data/breast_mml_datalists/20220111/breasts_lists'\n",
    "savepath = 'nyu_us'\n",
    "phase = 'train'\n",
    "\n",
    "os.mkdir(os.path.join(prefix, savepath))\n",
    "file = os.path.join(prefix, savepath, phase)\n",
    "\n",
    "print(phase, \"#pairs:\", len(us_images_train), '\\n\\t saved at: ', savepath)\n",
    "\n",
    "with open(file, 'wb') as f:\n",
    "    pickle.dump(us_images_train, f)"
   ]
  },
  {
   "cell_type": "code",
   "execution_count": null,
   "metadata": {},
   "outputs": [],
   "source": [
    "phase = 'val'\n",
    "\n",
    "# os.mkdir(os.path.join(prefix, savepath))\n",
    "file = os.path.join(prefix, savepath, phase)\n",
    "\n",
    "print(phase, \"#pairs:\", len(us_images_val), '\\n\\t saved at: ', savepath)\n",
    "\n",
    "with open(file, 'wb') as f:\n",
    "    pickle.dump(us_images_val, f)"
   ]
  },
  {
   "cell_type": "code",
   "execution_count": null,
   "metadata": {},
   "outputs": [],
   "source": []
  }
 ],
 "metadata": {
  "interpreter": {
   "hash": "07a111d3e27a1dee9d0b4c31fe465f6957bbd61e7acb75bf7205cee96cff5f66"
  },
  "kernelspec": {
   "display_name": "Python 3.8.3 ('base')",
   "language": "python",
   "name": "python3"
  },
  "language_info": {
   "codemirror_mode": {
    "name": "ipython",
    "version": 3
   },
   "file_extension": ".py",
   "mimetype": "text/x-python",
   "name": "python",
   "nbconvert_exporter": "python",
   "pygments_lexer": "ipython3",
   "version": "3.8.3"
  },
  "orig_nbformat": 4
 },
 "nbformat": 4,
 "nbformat_minor": 2
}
