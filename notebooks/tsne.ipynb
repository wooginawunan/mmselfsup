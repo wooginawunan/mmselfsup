{
 "cells": [
  {
   "cell_type": "code",
   "execution_count": 1,
   "metadata": {},
   "outputs": [
    {
     "name": "stderr",
     "output_type": "stream",
     "text": [
      "/gpfs/data/geraslab/Nan/miniconda3/envs/openmmlab/lib/python3.7/site-packages/tqdm/auto.py:22: TqdmWarning: IProgress not found. Please update jupyter and ipywidgets. See https://ipywidgets.readthedocs.io/en/stable/user_install.html\n",
      "  from .autonotebook import tqdm as notebook_tqdm\n"
     ]
    }
   ],
   "source": [
    "# Copyright (c) OpenMMLab. All rights reserved.\n",
    "import argparse\n",
    "import os.path as osp\n",
    "import time\n",
    "\n",
    "import matplotlib.pyplot as plt\n",
    "import mmcv\n",
    "import numpy as np\n",
    "import torch\n",
    "\n",
    "\n",
    "from mmcv import Config, DictAction\n",
    "from mmcv.parallel import MMDataParallel, MMDistributedDataParallel\n",
    "from mmcv.runner import get_dist_info, init_dist, load_checkpoint\n",
    "from sklearn.manifold import TSNE\n",
    "\n",
    "import sys\n",
    "sys.path.append('..')\n",
    "from mmselfsup.apis import set_random_seed\n",
    "from mmselfsup.datasets import build_dataloader, build_dataset\n",
    "from mmselfsup.models import build_algorithm\n",
    "from mmselfsup.models.utils import ExtractProcess\n",
    "from mmselfsup.utils import get_root_logger"
   ]
  },
  {
   "cell_type": "code",
   "execution_count": 2,
   "metadata": {},
   "outputs": [],
   "source": [
    "cfg = Config.fromfile('/gpfs/data/geraslab/Nan/mmselfsup/configs/benchmarks/classification/nyubreast/us_tsne.py')\n",
    "\n",
    "# set cudnn_benchmark\n",
    "if cfg.get('cudnn_benchmark', False):\n",
    "    torch.backends.cudnn.benchmark = True\n",
    "\n",
    "distributed = False\n",
    "\n",
    "# create work_dir and init the logger before other steps\n",
    "timestamp = time.strftime('%Y%m%d_%H%M%S', time.localtime())\n",
    "tsne_work_dir = osp.join(cfg.work_dir, f'tsne_{timestamp}/')\n",
    "mmcv.mkdir_or_exist(osp.abspath(tsne_work_dir))\n",
    "log_file = osp.join(tsne_work_dir, 'extract.log')\n",
    "logger = get_root_logger(log_file=log_file, log_level=cfg.log_level)"
   ]
  },
  {
   "cell_type": "code",
   "execution_count": 3,
   "metadata": {},
   "outputs": [
    {
     "name": "stderr",
     "output_type": "stream",
     "text": [
      "2022-04-26 18:05:57,605 - mmselfsup - INFO - Apply t-SNE to visualize 269 samples.\n"
     ]
    }
   ],
   "source": [
    "# build the dataloader\n",
    "dataset = build_dataset(cfg.data.extract)\n",
    "# compress dataset, select that the label is less then max_num_class\n",
    "tmp_infos = []\n",
    "for i in range(len(dataset)):\n",
    "    tmp_infos.append(dataset.data_source.data_infos[i]['noisy_token_indicies'])\n",
    "# dataset.data_source.data_infos = tmp_infos\n",
    "logger.info(f'Apply t-SNE to visualize {len(dataset)} samples.')\n",
    "    \n",
    "data_loader = build_dataloader(\n",
    "    dataset,\n",
    "    samples_per_gpu=cfg.data.samples_per_gpu,\n",
    "    workers_per_gpu=cfg.data.workers_per_gpu,\n",
    "    dist=distributed,\n",
    "    breast=True,\n",
    "    shuffle=False)\n"
   ]
  },
  {
   "cell_type": "code",
   "execution_count": 4,
   "metadata": {},
   "outputs": [],
   "source": [
    "# for i, data in enumerate(data_loader):\n",
    "#     print(data['img'].shape, data['us_counts'])"
   ]
  },
  {
   "cell_type": "code",
   "execution_count": 5,
   "metadata": {},
   "outputs": [
    {
     "name": "stderr",
     "output_type": "stream",
     "text": [
      "2022-04-26 18:05:57,898 - mmselfsup - INFO - initialize ResNet with init_cfg {'type': 'Pretrained', 'checkpoint': '/gpfs/data/geraslab/Nan/saves/selfsup/swav_breast/data_20220111_full/swav_resnet18_avgpool_coslr-100e_largebatch_skynet-gpu32/20220411_ffdm_latest.pth'}\n",
      "2022-04-26 18:05:57,899 - mmcv - INFO - load model from: /gpfs/data/geraslab/Nan/saves/selfsup/swav_breast/data_20220111_full/swav_resnet18_avgpool_coslr-100e_largebatch_skynet-gpu32/20220411_ffdm_latest.pth\n",
      "2022-04-26 18:05:57,901 - mmcv - INFO - load checkpoint from local path: /gpfs/data/geraslab/Nan/saves/selfsup/swav_breast/data_20220111_full/swav_resnet18_avgpool_coslr-100e_largebatch_skynet-gpu32/20220411_ffdm_latest.pth\n",
      "2022-04-26 18:05:57,995 - mmselfsup - INFO - initialize ClsHead with init_cfg [{'type': 'Normal', 'std': 0.01, 'layer': 'Linear'}, {'type': 'Constant', 'val': 1, 'layer': ['_BatchNorm', 'GroupNorm']}]\n"
     ]
    }
   ],
   "source": [
    "# build the model\n",
    "model = build_algorithm(cfg.model)\n",
    "model.init_weights()\n",
    "\n",
    "if not distributed:\n",
    "    model = MMDataParallel(model, device_ids=[0])\n",
    "else:\n",
    "    model = MMDistributedDataParallel(\n",
    "        model.cuda(),\n",
    "        device_ids=[torch.cuda.current_device()],\n",
    "        broadcast_buffers=False)"
   ]
  },
  {
   "cell_type": "code",
   "execution_count": 6,
   "metadata": {},
   "outputs": [
    {
     "name": "stdout",
     "output_type": "stream",
     "text": [
      "[>>>>>>>>>>>>>>>>>>>>>>>>>>>>>>>>] 68/68, 1.2 task/s, elapsed: 58s, ETA:     0s"
     ]
    }
   ],
   "source": [
    "# build extraction processor and run\n",
    "extractor = ExtractProcess()\n",
    "features = extractor.extract(model, data_loader, distributed=distributed)\n",
    "# labels = dataset.data_source.get_gt_labels()"
   ]
  },
  {
   "cell_type": "code",
   "execution_count": null,
   "metadata": {},
   "outputs": [],
   "source": [
    "# save features\n",
    "mmcv.mkdir_or_exist(f'{tsne_work_dir}features/')\n",
    "logger.info(f'Save features to {tsne_work_dir}features/')\n",
    "for key, val in features.items():\n",
    "    output_file = \\\n",
    "        f'{tsne_work_dir}features/{dataset_cfg.name}_{key}.npy'\n",
    "    np.save(output_file, val)\n",
    "\n",
    "# build t-SNE model\n",
    "tsne_model = TSNE(\n",
    "    n_components=2,\n",
    "    perplexity=20,\n",
    "    early_exaggeration=12,\n",
    "    learning_rate=200,\n",
    "    n_iter=1000,\n",
    "    n_iter_without_progress=300,\n",
    "    init='random')\n",
    "\n",
    "# run and get results\n",
    "mmcv.mkdir_or_exist(f'{tsne_work_dir}saved_pictures/')\n",
    "logger.info('Running t-SNE......')\n",
    "for key, val in features.items():\n",
    "    result = tsne_model.fit_transform(val)\n",
    "    res_min, res_max = result.min(0), result.max(0)\n",
    "    res_norm = (result - res_min) / (res_max - res_min)\n",
    "    plt.figure(figsize=(10, 10))\n",
    "    plt.scatter(\n",
    "        res_norm[:, 0],\n",
    "        res_norm[:, 1],\n",
    "        alpha=1.0,\n",
    "        s=15,\n",
    "        c=labels,\n",
    "        cmap='tab20')\n",
    "    plt.savefig(f'{tsne_work_dir}saved_pictures/{key}.png')"
   ]
  }
 ],
 "metadata": {
  "interpreter": {
   "hash": "c4493dade1e592a320d04813542b85a962a7f2159bf37ffdac69d213334391d8"
  },
  "kernelspec": {
   "display_name": "Python 3.7.11 ('openmmlab')",
   "language": "python",
   "name": "python3"
  },
  "language_info": {
   "codemirror_mode": {
    "name": "ipython",
    "version": 3
   },
   "file_extension": ".py",
   "mimetype": "text/x-python",
   "name": "python",
   "nbconvert_exporter": "python",
   "pygments_lexer": "ipython3",
   "version": "3.7.11"
  },
  "orig_nbformat": 4
 },
 "nbformat": 4,
 "nbformat_minor": 2
}
