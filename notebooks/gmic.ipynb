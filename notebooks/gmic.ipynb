{
 "cells": [
  {
   "cell_type": "code",
   "execution_count": null,
   "metadata": {},
   "outputs": [],
   "source": [
    "import torch\n",
    "import sys, os\n",
    "sys.path.append('../')\n",
    "import matplotlib.pyplot as plt\n",
    "import seaborn as sns\n",
    "\n",
    "import json\n",
    "import pandas as pd\n",
    "import numpy as np\n",
    "import glob"
   ]
  },
  {
   "cell_type": "code",
   "execution_count": null,
   "metadata": {},
   "outputs": [],
   "source": [
    "sns.set_context(\"talk\")\n",
    "sns.set_style(\"whitegrid\")"
   ]
  },
  {
   "cell_type": "code",
   "execution_count": null,
   "metadata": {},
   "outputs": [],
   "source": [
    "save_path = '/gpfs/data/geraslab/Nan/mmselfsup/work_dirs/benchmarks/classification/nyubreast/'"
   ]
  },
  {
   "cell_type": "code",
   "execution_count": null,
   "metadata": {},
   "outputs": [],
   "source": [
    "def get_lastest_runlogs(save_path, run_path):\n",
    "    \"\"\"gather the log of the lastest run and return log as data frame.\"\"\"\n",
    "    try:\n",
    "        file = sorted(glob.glob(os.path.join(save_path, run_path, '*.json')))[-1]\n",
    "        with open(file) as f:\n",
    "            lines = f.readlines()[1:]\n",
    "        logs = pd.DataFrame([json.loads(line) for line in lines])\n",
    "    except:\n",
    "        print(save_path, run_path)\n",
    "        raise FileNotFoundError\n",
    "\n",
    "    return logs\n",
    "\n",
    "def get_comparison_table(modal_cls, model_path, exp_prefix, weight_init):\n",
    "    performance = []\n",
    "    for modal in modal_cls:\n",
    "        for path in model_path:\n",
    "            for exp in exp_prefix:\n",
    "                for winit in weight_init:\n",
    "                    try:\n",
    "                    \n",
    "                        logs = get_lastest_runlogs(save_path, f'{modal}/{path}/{exp}{winit}')\n",
    "                    \n",
    "                        loss, auc, prauc = logs[logs['mode']=='val'].head4_loss.min(), logs[logs['mode']=='val'].head4_auc.max(), logs[logs['mode']=='val'].head4_prauc.max()\n",
    "\n",
    "                        performance.append({'modal': modal, 'pretrain-exp': path,\n",
    "                            'exp': exp, \n",
    "                            'weight init': winit.split('_')[-1] if winit!='' else 'cross-modal swav', \n",
    "                            'loss': loss, 'auc': auc, 'prauc': prauc})\n",
    "                    except FileNotFoundError:\n",
    "                        pass\n",
    "\n",
    "    return pd.DataFrame(performance)"
   ]
  },
  {
   "cell_type": "code",
   "execution_count": null,
   "metadata": {},
   "outputs": [],
   "source": [
    "def learning_curves_comparsion(file_prefixes, titles): \n",
    "    fig, axs = plt.subplots(1, 4, figsize=(25, 4))\n",
    "    for (modal, path, exp, winit), title  in zip(file_prefixes, titles):\n",
    "        logs = get_lastest_runlogs(save_path, f'{modal}/{path}/{exp}{winit}')\n",
    "        logs[logs['mode']=='train'].loss.rolling(50).mean().plot(\n",
    "            use_index=False, label=title, ax=axs[0], alpha=0.5)\n",
    "\n",
    "        axs[0].set_ylabel('train loss')\n",
    "        axs[0].set_xlabel('epoch')\n",
    "        axs[0].legend()\n",
    "\n",
    "        logs[logs['mode']=='val'].head4_loss.plot(\n",
    "            use_index=False, label=title, ax=axs[1])\n",
    "\n",
    "        axs[1].set_ylabel('val loss')\n",
    "        axs[1].set_xlabel('epoch')\n",
    "        axs[1].legend()\n",
    "\n",
    "        logs[logs['mode']=='val'].head4_auc.plot(\n",
    "            use_index=False, label=title, ax=axs[2])\n",
    "\n",
    "        axs[2].set_ylabel('val auc')\n",
    "        axs[2].set_xlabel('epoch')\n",
    "        axs[2].legend()\n",
    "        if 'head4_prauc' in logs:\n",
    "\n",
    "            logs[logs['mode']=='val'].head4_prauc.plot(\n",
    "                use_index=False, label=title, ax=axs[3])\n",
    "\n",
    "        axs[3].set_ylabel('val orauc')\n",
    "        axs[3].set_xlabel('epoch')\n",
    "        axs[3].legend()\n",
    "\n",
    "    plt.show()\n"
   ]
  },
  {
   "cell_type": "code",
   "execution_count": null,
   "metadata": {},
   "outputs": [],
   "source": [
    "modal_cls = ['ffdm']\n",
    "model_path = ['gmic', 'gmic_highreso']\n",
    "exp_prefix = ['linear/']\n",
    "weight_init = ['swav_resnet18_milatten1_batch128', 'swav_resnet18_avgpool_coslr-200e-ori_resolution_skynet', \n",
    "    'imagenet', 'swav_resnet18_avgpool_coslr-100e_largebatch_skynet-gpu32']\n",
    "\n",
    "performance = get_comparison_table(modal_cls, model_path, exp_prefix, weight_init)\n",
    "performance"
   ]
  },
  {
   "cell_type": "code",
   "execution_count": null,
   "metadata": {},
   "outputs": [],
   "source": [
    "file_prefixes = [('ffdm', 'gmic', 'linear/', 'swav_resnet18_milatten1_batch128'),\n",
    "                 ('ffdm', 'gmic', 'linear/', 'swav_resnet18_avgpool_coslr-100e_largebatch_skynet-gpu32'),\n",
    "                 ('ffdm', 'gmic', 'linear/', 'imagenet'),\n",
    "                 ('ffdm', 'gmic_highreso', 'linear/', 'swav_resnet18_avgpool_coslr-200e-ori_resolution_skynet'),\n",
    "                 ]\n",
    "titles = ['attention-head', 'vanilla', 'imagenet', 'high-reso']\n",
    "\n",
    "learning_curves_comparsion(file_prefixes, titles)"
   ]
  },
  {
   "cell_type": "code",
   "execution_count": null,
   "metadata": {},
   "outputs": [],
   "source": []
  }
 ],
 "metadata": {
  "interpreter": {
   "hash": "07a111d3e27a1dee9d0b4c31fe465f6957bbd61e7acb75bf7205cee96cff5f66"
  },
  "kernelspec": {
   "display_name": "Python 3.8.3 ('base')",
   "language": "python",
   "name": "python3"
  },
  "language_info": {
   "codemirror_mode": {
    "name": "ipython",
    "version": 3
   },
   "file_extension": ".py",
   "mimetype": "text/x-python",
   "name": "python",
   "nbconvert_exporter": "python",
   "pygments_lexer": "ipython3",
   "version": "3.8.3"
  },
  "orig_nbformat": 4
 },
 "nbformat": 4,
 "nbformat_minor": 2
}
